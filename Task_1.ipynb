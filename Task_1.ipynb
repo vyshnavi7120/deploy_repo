{
  "nbformat": 4,
  "nbformat_minor": 0,
  "metadata": {
    "colab": {
      "name": "Task_1",
      "provenance": [],
      "authorship_tag": "ABX9TyMikiQsobjbIEyVhP84CBl/",
      "include_colab_link": true
    },
    "kernelspec": {
      "name": "python3",
      "display_name": "Python 3"
    },
    "language_info": {
      "name": "python"
    }
  },
  "cells": [
    {
      "cell_type": "markdown",
      "metadata": {
        "id": "view-in-github",
        "colab_type": "text"
      },
      "source": [
        "<a href=\"https://colab.research.google.com/github/vyshnavi7120/deploy_repo/blob/master/Task_1.ipynb\" target=\"_parent\"><img src=\"https://colab.research.google.com/assets/colab-badge.svg\" alt=\"Open In Colab\"/></a>"
      ]
    },
    {
      "cell_type": "code",
      "metadata": {
        "id": "cg8U3cZdWTdn"
      },
      "source": [
        "record = {1001 : { 'name' : 'Vyshnavi', 'price' : 986, 'quantity' : 3 },\n",
        "          1002 : { 'name' : 'Nithish', 'price' : 899, 'quantity' : 5 },\n",
        "          1003 : { 'name' : 'Kumar', 'price' : 989, 'quantity' : 2 }} "
      ],
      "execution_count": 1,
      "outputs": []
    },
    {
      "cell_type": "code",
      "metadata": {
        "colab": {
          "base_uri": "https://localhost:8080/"
        },
        "id": "ejC30XN2XP7R",
        "outputId": "4783a919-b5dc-47f2-e097-bbc58f09b1db"
      },
      "source": [
        "record"
      ],
      "execution_count": 2,
      "outputs": [
        {
          "output_type": "execute_result",
          "data": {
            "text/plain": [
              "{1001: {'name': 'Vyshnavi', 'price': 986, 'quantity': 3},\n",
              " 1002: {'name': 'Nithish', 'price': 899, 'quantity': 5},\n",
              " 1003: {'name': 'Kumar', 'price': 989, 'quantity': 2}}"
            ]
          },
          "metadata": {},
          "execution_count": 2
        }
      ]
    },
    {
      "cell_type": "code",
      "metadata": {
        "colab": {
          "base_uri": "https://localhost:8080/"
        },
        "id": "FFyPlWsHYph8",
        "outputId": "519f0f95-1f78-492b-ab66-aa7308a99739"
      },
      "source": [
        "type(record)"
      ],
      "execution_count": 3,
      "outputs": [
        {
          "output_type": "execute_result",
          "data": {
            "text/plain": [
              "dict"
            ]
          },
          "metadata": {},
          "execution_count": 3
        }
      ]
    },
    {
      "cell_type": "code",
      "metadata": {
        "id": "wgnH4do0Yxxw"
      },
      "source": [
        "import json\n"
      ],
      "execution_count": 4,
      "outputs": []
    },
    {
      "cell_type": "code",
      "metadata": {
        "id": "KlQSSNHJZIZv"
      },
      "source": [
        "data = json.dumps(record)"
      ],
      "execution_count": 5,
      "outputs": []
    },
    {
      "cell_type": "code",
      "metadata": {
        "colab": {
          "base_uri": "https://localhost:8080/",
          "height": 52
        },
        "id": "fNnX2SluZMWQ",
        "outputId": "a89c762e-5eca-4dfb-c1c9-0b5b6daa6a69"
      },
      "source": [
        "data"
      ],
      "execution_count": 6,
      "outputs": [
        {
          "output_type": "execute_result",
          "data": {
            "application/vnd.google.colaboratory.intrinsic+json": {
              "type": "string"
            },
            "text/plain": [
              "'{\"1001\": {\"name\": \"Vyshnavi\", \"price\": 986, \"quantity\": 3}, \"1002\": {\"name\": \"Nithish\", \"price\": 899, \"quantity\": 5}, \"1003\": {\"name\": \"Kumar\", \"price\": 989, \"quantity\": 2}}'"
            ]
          },
          "metadata": {},
          "execution_count": 6
        }
      ]
    },
    {
      "cell_type": "code",
      "metadata": {
        "colab": {
          "base_uri": "https://localhost:8080/"
        },
        "id": "50g5YBFyZXI_",
        "outputId": "b7d7e9a3-0910-4a30-80c2-05d2233b2ed0"
      },
      "source": [
        "type(data)"
      ],
      "execution_count": 7,
      "outputs": [
        {
          "output_type": "execute_result",
          "data": {
            "text/plain": [
              "str"
            ]
          },
          "metadata": {},
          "execution_count": 7
        }
      ]
    },
    {
      "cell_type": "code",
      "metadata": {
        "id": "O_1zW-6zcGdU"
      },
      "source": [
        "fd = open(\"task_1.json\", 'w')\n",
        "\n",
        "fd.write(data)\n",
        "\n",
        "fd.close()"
      ],
      "execution_count": 8,
      "outputs": []
    },
    {
      "cell_type": "code",
      "metadata": {
        "id": "4R7mIpRMcZ79"
      },
      "source": [
        "fd = open(\"task_1.json\", 'r')\n",
        "\n",
        "txt = fd.read()\n",
        "\n",
        "fd.close()"
      ],
      "execution_count": 9,
      "outputs": []
    },
    {
      "cell_type": "code",
      "metadata": {
        "colab": {
          "base_uri": "https://localhost:8080/",
          "height": 69
        },
        "id": "JYFiYqfKckH9",
        "outputId": "79033a55-dff7-436b-e3b4-3de942792898"
      },
      "source": [
        "txt"
      ],
      "execution_count": 10,
      "outputs": [
        {
          "output_type": "execute_result",
          "data": {
            "application/vnd.google.colaboratory.intrinsic+json": {
              "type": "string"
            },
            "text/plain": [
              "'{\"1001\": {\"name\": \"Vyshnavi\", \"price\": 986, \"quantity\": 3}, \"1002\": {\"name\": \"Nithish\", \"price\": 899, \"quantity\": 5}, \"1003\": {\"name\": \"Kumar\", \"price\": 989, \"quantity\": 2}}'"
            ]
          },
          "metadata": {},
          "execution_count": 10
        }
      ]
    },
    {
      "cell_type": "code",
      "metadata": {
        "colab": {
          "base_uri": "https://localhost:8080/"
        },
        "id": "hQady-PNcmyC",
        "outputId": "7c0eb2d2-a9f2-4b83-a681-79c52918bb55"
      },
      "source": [
        "type(txt)"
      ],
      "execution_count": 11,
      "outputs": [
        {
          "output_type": "execute_result",
          "data": {
            "text/plain": [
              "str"
            ]
          },
          "metadata": {},
          "execution_count": 11
        }
      ]
    },
    {
      "cell_type": "code",
      "metadata": {
        "id": "LLlW1GLbcorg"
      },
      "source": [
        "task_1 = json.loads(txt)"
      ],
      "execution_count": 12,
      "outputs": []
    },
    {
      "cell_type": "code",
      "metadata": {
        "colab": {
          "base_uri": "https://localhost:8080/"
        },
        "id": "gBjPv4SQczWf",
        "outputId": "5b32d78a-6394-4ae9-827b-136969b02ebb"
      },
      "source": [
        "task_1"
      ],
      "execution_count": 13,
      "outputs": [
        {
          "output_type": "execute_result",
          "data": {
            "text/plain": [
              "{'1001': {'name': 'Vyshnavi', 'price': 986, 'quantity': 3},\n",
              " '1002': {'name': 'Nithish', 'price': 899, 'quantity': 5},\n",
              " '1003': {'name': 'Kumar', 'price': 989, 'quantity': 2}}"
            ]
          },
          "metadata": {},
          "execution_count": 13
        }
      ]
    },
    {
      "cell_type": "code",
      "metadata": {
        "colab": {
          "base_uri": "https://localhost:8080/"
        },
        "id": "9mwA44WMc0qf",
        "outputId": "19a48e13-8b1b-4734-bf06-8cdda4b9918e"
      },
      "source": [
        "type(task_1)"
      ],
      "execution_count": 14,
      "outputs": [
        {
          "output_type": "execute_result",
          "data": {
            "text/plain": [
              "dict"
            ]
          },
          "metadata": {},
          "execution_count": 14
        }
      ]
    },
    {
      "cell_type": "markdown",
      "metadata": {
        "id": "TnxrtvaWecE1"
      },
      "source": [
        "### **Add a new item to the list:**"
      ]
    },
    {
      "cell_type": "code",
      "metadata": {
        "colab": {
          "base_uri": "https://localhost:8080/"
        },
        "id": "DspFZpwBc3DY",
        "outputId": "7fbd3af0-0d44-4c86-ae56-a79611f3f198"
      },
      "source": [
        "prod_id = str(input(\"Enter product Id: \"))\n",
        "name = str(input(\"Enter name: \"))\n",
        "price = int(input(\"Enter the price of the product: \"))\n",
        "quantity = int(input(\"Enter the quantity of product: \"))"
      ],
      "execution_count": 15,
      "outputs": [
        {
          "name": "stdout",
          "output_type": "stream",
          "text": [
            "Enter product Id: 1004\n",
            "Enter name: Talla\n",
            "Enter the price of the product: 786\n",
            "Enter the quantity of product: 4\n"
          ]
        }
      ]
    },
    {
      "cell_type": "code",
      "metadata": {
        "id": "-IkZ3FhpdQix"
      },
      "source": [
        "task_1[prod_id] = {\"name\" : name, \"price\" : price, \"quantity\" : quantity}"
      ],
      "execution_count": 17,
      "outputs": []
    },
    {
      "cell_type": "code",
      "metadata": {
        "colab": {
          "base_uri": "https://localhost:8080/"
        },
        "id": "P05ZhR2BdcTM",
        "outputId": "66490c2c-4013-487f-a3f2-f9e795c97a02"
      },
      "source": [
        "task_1"
      ],
      "execution_count": 18,
      "outputs": [
        {
          "output_type": "execute_result",
          "data": {
            "text/plain": [
              "{'1001': {'name': 'Vyshnavi', 'price': 986, 'quantity': 3},\n",
              " '1002': {'name': 'Nithish', 'price': 899, 'quantity': 5},\n",
              " '1003': {'name': 'Kumar', 'price': 989, 'quantity': 2},\n",
              " '1004': {'name': 'Talla', 'price': 786, 'quantity': 4}}"
            ]
          },
          "metadata": {},
          "execution_count": 18
        }
      ]
    },
    {
      "cell_type": "markdown",
      "metadata": {
        "id": "xisHfRGahccN"
      },
      "source": [
        "### **Combining all the above steps into one code:**"
      ]
    },
    {
      "cell_type": "code",
      "metadata": {
        "colab": {
          "base_uri": "https://localhost:8080/"
        },
        "id": "g5wIeLUyhoMz",
        "outputId": "c8759c1b-14fe-4cfd-87ed-ca98fdc639da"
      },
      "source": [
        "prod_id = str(input(\"Enter product Id: \"))\n",
        "name = str(input(\"Enter name: \"))\n",
        "price = int(input(\"Enter the price of the product: \"))\n",
        "quantity = int(input(\"Enter the quantity of product: \"))\n",
        "\n",
        "task_1[prod_id] = {\"name\" : name, \"price\" : price, \"quantity\" : quantity}\n",
        "\n",
        "js = json.dumps(task_1)\n",
        "\n",
        "fd = open(\"task_1.json\", 'w')\n",
        "fd.write(js)\n",
        "fd.close()"
      ],
      "execution_count": 23,
      "outputs": [
        {
          "name": "stdout",
          "output_type": "stream",
          "text": [
            "Enter product Id: 1008\n",
            "Enter name: naina\n",
            "Enter the price of the product: 567\n",
            "Enter the quantity of product: 5\n"
          ]
        }
      ]
    },
    {
      "cell_type": "code",
      "metadata": {
        "id": "3Ptk-05tiERR"
      },
      "source": [
        ""
      ],
      "execution_count": null,
      "outputs": []
    }
  ]
}